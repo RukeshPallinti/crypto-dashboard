{
 "cells": [
  {
   "cell_type": "code",
   "id": "initial_id",
   "metadata": {
    "collapsed": true,
    "jupyter": {
     "is_executing": true
    }
   },
   "source": [
    "import pandas as pd\n",
    "import numpy as np\n",
    "import matplotlib.pyplot as plt\n",
    "import seaborn as sns\n",
    "\n",
    "# Load raw data\n",
    "df = pd.read_csv(\"crypto_raw_inr.csv\")\n",
    "\n",
    "# Rename columns for clarity\n",
    "df.rename(columns={\n",
    "    \"id\": \"coin\",\n",
    "    \"current_price\": \"price_in_inr\",\n",
    "    \"total_volume\": \"trading_volume_inr\"\n",
    "}, inplace=True)\n",
    "\n",
    "# Add extra features\n",
    "df[\"log_price\"] = np.log(df[\"price_in_inr\"])\n",
    "df[\"volatility_score\"] = df[\"price_change_percentage_24h\"].abs()\n",
    "\n",
    "# Save cleaned file\n",
    "df.to_csv(\"crypto_cleaned_inr.csv\", index=False)\n",
    "\n",
    "df\n"
   ],
   "outputs": [],
   "execution_count": null
  },
  {
   "metadata": {
    "jupyter": {
     "is_executing": true
    }
   },
   "cell_type": "code",
   "source": [
    "# Price comparison\n",
    "plt.figure(figsize=(8,5))\n",
    "sns.barplot(x=\"coin\", y=\"price_in_inr\", data=df)\n",
    "plt.title(\"Crypto Prices in INR\")\n",
    "plt.show()\n",
    "\n",
    "# Volatility comparison\n",
    "plt.figure(figsize=(8,5))\n",
    "sns.barplot(x=\"coin\", y=\"volatility_score\", data=df)\n",
    "plt.title(\"Crypto Volatility (24h % Change)\")\n",
    "plt.show()\n",
    "\n",
    "# Select only numeric columns for correlation\n",
    "numeric_df = df.select_dtypes(include=[\"float64\", \"int64\"])\n",
    "plt.figure(figsize=(6,4))\n",
    "sns.heatmap(numeric_df.corr(), annot=True, cmap=\"coolwarm\", fmt=\".2f\")\n",
    "plt.title(\"Feature Correlation Heatmap\")\n",
    "plt.show()\n"
   ],
   "id": "5fd0ccf721d90f31",
   "outputs": [],
   "execution_count": null
  },
  {
   "metadata": {
    "jupyter": {
     "is_executing": true
    }
   },
   "cell_type": "code",
   "source": [
    "# Market Cap Share\n",
    "plt.figure(figsize=(7,7))\n",
    "plt.pie(df[\"market_cap\"], labels=df[\"coin\"], autopct=\"%1.1f%%\", startangle=140)\n",
    "plt.title(\"Market Cap Distribution (INR)\")\n",
    "plt.show()\n",
    "\n",
    "\n",
    "# High vs Low Price\n",
    "plt.figure(figsize=(10,6))\n",
    "df_melted = df.melt(id_vars=\"coin\", value_vars=[\"high_24h\", \"low_24h\"], var_name=\"Metric\", value_name=\"Price (INR)\")\n",
    "sns.barplot(x=\"coin\", y=\"Price (INR)\", hue=\"Metric\", data=df_melted)\n",
    "plt.title(\"24h High vs Low Prices (INR)\")\n",
    "plt.show()\n",
    "\n",
    "# Remove rows with missing or zero values\n",
    "df_scatter = df.dropna(subset=[\"price_in_inr\", \"trading_volume_inr\"])\n",
    "df_scatter = df_scatter[(df_scatter[\"price_in_inr\"] > 0) & (df_scatter[\"trading_volume_inr\"] > 0)]\n",
    "\n",
    "# Optional: convert trading volume to millions for readability\n",
    "df_scatter[\"trading_volume_millions\"] = df_scatter[\"trading_volume_inr\"] / 1_000_000\n",
    "\n",
    "import matplotlib.pyplot as plt\n",
    "import seaborn as sns\n",
    "\n",
    "# Set style\n",
    "sns.set_style(\"whitegrid\")\n",
    "plt.figure(figsize=(10,7), dpi=120)\n",
    "\n",
    "# Scatter plot\n",
    "sns.scatterplot(\n",
    "    x=\"price_in_inr\",\n",
    "    y=\"trading_volume_millions\",\n",
    "    hue=\"coin\",\n",
    "    palette=sns.color_palette(\"tab20\", n_colors=df_scatter['coin'].nunique()),\n",
    "    s=200,\n",
    "    alpha=0.8,\n",
    "    edgecolor=\"k\",\n",
    "    data=df_scatter\n",
    ")\n",
    "\n",
    "# Log scale (optional, for better visualization if prices/volumes vary a lot)\n",
    "plt.xscale('log')\n",
    "plt.yscale('log')\n",
    "\n",
    "# Titles and labels\n",
    "plt.title(\"Price vs Trading Volume (INR, in Millions)\", fontsize=16, fontweight='bold')\n",
    "plt.xlabel(\"Price (INR)\", fontsize=12)\n",
    "plt.ylabel(\"Trading Volume (Millions INR)\", fontsize=12)\n",
    "\n",
    "# Legend outside plot\n",
    "plt.legend(bbox_to_anchor=(1.05, 1), loc='upper left', title=\"Coin\", fontsize=10)\n",
    "plt.tight_layout()\n",
    "plt.show()\n",
    "\n",
    "\n"
   ],
   "id": "1acf894f011c2420",
   "outputs": [],
   "execution_count": null
  }
 ],
 "metadata": {
  "kernelspec": {
   "display_name": "Python 3",
   "language": "python",
   "name": "python3"
  },
  "language_info": {
   "codemirror_mode": {
    "name": "ipython",
    "version": 2
   },
   "file_extension": ".py",
   "mimetype": "text/x-python",
   "name": "python",
   "nbconvert_exporter": "python",
   "pygments_lexer": "ipython2",
   "version": "2.7.6"
  }
 },
 "nbformat": 4,
 "nbformat_minor": 5
}
